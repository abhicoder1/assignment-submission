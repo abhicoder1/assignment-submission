{
 "cells": [
  {
   "cell_type": "code",
   "execution_count": 2,
   "metadata": {},
   "outputs": [
    {
     "name": "stdout",
     "output_type": "stream",
     "text": [
      "Enter no. to remove from list: 34\n"
     ]
    }
   ],
   "source": [
    "L=[55,244,34,22,12,42,34,23,34,23]\n",
    "n=int(input(\"Enter no. to remove from list: \"))\n",
    "c=L.count(n)\n",
    "for item in range(0,c):\n",
    "    L.remove(n)"
   ]
  },
  {
   "cell_type": "code",
   "execution_count": 3,
   "metadata": {},
   "outputs": [
    {
     "name": "stdout",
     "output_type": "stream",
     "text": [
      "[55, 244, 22, 12, 42, 23, 23]\n"
     ]
    }
   ],
   "source": [
    "print(L)"
   ]
  },
  {
   "cell_type": "code",
   "execution_count": 4,
   "metadata": {},
   "outputs": [
    {
     "name": "stdout",
     "output_type": "stream",
     "text": [
      "Enter no. to remove from list: 34\n",
      "[55, 244, 22, 12, 42, 34, 23, 34, 23]\n",
      "[55, 244, 22, 12, 42, 23, 34, 23]\n",
      "[55, 244, 22, 12, 42, 23, 23]\n"
     ]
    }
   ],
   "source": [
    "L=[55,244,34,22,12,42,34,23,34,23]\n",
    "n=int(input(\"Enter no. to remove from list: \"))\n",
    "c=L.count(n)\n",
    "for item in range(0,c):\n",
    "    L.remove(n)\n",
    "    print(L)\n"
   ]
  }
 ],
 "metadata": {
  "kernelspec": {
   "display_name": "Python 3",
   "language": "python",
   "name": "python3"
  },
  "language_info": {
   "codemirror_mode": {
    "name": "ipython",
    "version": 3
   },
   "file_extension": ".py",
   "mimetype": "text/x-python",
   "name": "python",
   "nbconvert_exporter": "python",
   "pygments_lexer": "ipython3",
   "version": "3.7.6"
  }
 },
 "nbformat": 4,
 "nbformat_minor": 4
}
