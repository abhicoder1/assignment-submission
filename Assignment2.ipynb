{
 "cells": [
  {
   "cell_type": "code",
   "execution_count": 5,
   "metadata": {},
   "outputs": [
    {
     "name": "stdout",
     "output_type": "stream",
     "text": [
      "The original list is : [8, 12, [], 11, [], [], 25]\n",
      "List after empty list removal : [8, 12, 11, 25]\n"
     ]
    }
   ],
   "source": [
    "# write a python program to remove empty list from list.\n",
    "  \n",
    "# Initializing list  \n",
    "test_list = [8, 12, [], 11, [], [], 25] \n",
    "  \n",
    "# printing original list  \n",
    "print(\"The original list is : \" + str(test_list)) \n",
    "  \n",
    "# Remove empty List from List \n",
    "# using list comprehension \n",
    "res = [ele for ele in test_list if ele != []] \n",
    "  \n",
    "# printing result  \n",
    "print (\"List after empty list removal : \" + str(res)) "
   ]
  },
  {
   "cell_type": "code",
   "execution_count": 6,
   "metadata": {},
   "outputs": [
    {
     "name": "stdout",
     "output_type": "stream",
     "text": [
      "Ashoka is great and mighty.\n"
     ]
    }
   ],
   "source": [
    "# Write a Python program to remove all duplicates words from a given sentence.\n",
    "\n",
    "s = \"Ashoka is great and Ashoka is mighty.\"\n",
    "l = s.split() \n",
    "k = [] \n",
    "for i in l: \n",
    "  \n",
    "    # If condition is used to store unique string  \n",
    "    # in another list 'k'  \n",
    "    if (s.count(i)>1 and (i not in k)or s.count(i)==1): \n",
    "        k.append(i) \n",
    "print(' '.join(k)) "
   ]
  },
  {
   "cell_type": "code",
   "execution_count": 7,
   "metadata": {},
   "outputs": [
    {
     "name": "stdout",
     "output_type": "stream",
     "text": [
      "Occurrence of all characters in abhinav karki is :\n",
      " {'a': 3, 'b': 1, 'h': 1, 'i': 2, 'n': 1, 'v': 1, ' ': 1, 'k': 2, 'r': 1}\n"
     ]
    }
   ],
   "source": [
    "# Write a Python program to find all occurrences of a character in the given string.\n",
    "\n",
    "# initializing string  \n",
    "inp_str = \"abhinav karki\"\n",
    "  \n",
    "# frequency dictionary \n",
    "freq = {}  \n",
    "    \n",
    "for ele in inp_str:  \n",
    "    if ele in freq:  \n",
    "        freq[ele] += 1\n",
    "    else:  \n",
    "        freq[ele] = 1\n",
    "    \n",
    "# printing result   \n",
    "print (\"Occurrence of all characters in abhinav karki is :\\n \"+ str(freq))  "
   ]
  },
  {
   "cell_type": "code",
   "execution_count": 8,
   "metadata": {},
   "outputs": [
    {
     "name": "stdout",
     "output_type": "stream",
     "text": [
      "Please enter your own String : abhinav karki\n",
      "Please enter your own Character : a\n",
      "a  is Found at Position  1\n",
      "a  is Found at Position  6\n",
      "a  is Found at Position  10\n"
     ]
    }
   ],
   "source": [
    "# Write a Python program to find all occurrences of a character in the given string.\n",
    "\n",
    "str = input(\"Please enter your own String : \")\n",
    "ch = input(\"Please enter your own Character : \")\n",
    "\n",
    "for i in range(len(str)):\n",
    "    if(str[i] == ch ):\n",
    "        print(ch, \" is Found at Position \" , i + 1)"
   ]
  }
 ],
 "metadata": {
  "kernelspec": {
   "display_name": "Python 3",
   "language": "python",
   "name": "python3"
  },
  "language_info": {
   "codemirror_mode": {
    "name": "ipython",
    "version": 3
   },
   "file_extension": ".py",
   "mimetype": "text/x-python",
   "name": "python",
   "nbconvert_exporter": "python",
   "pygments_lexer": "ipython3",
   "version": "3.7.6"
  }
 },
 "nbformat": 4,
 "nbformat_minor": 4
}
